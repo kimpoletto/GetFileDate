{
 "cells": [
  {
   "cell_type": "code",
   "execution_count": 3,
   "id": "083d0642",
   "metadata": {},
   "outputs": [],
   "source": [
    "import os\n",
    "import shutil\n",
    "import pandas as pd\n",
    "import time"
   ]
  },
  {
   "cell_type": "code",
   "execution_count": 30,
   "id": "714e5289",
   "metadata": {},
   "outputs": [
    {
     "name": "stdout",
     "output_type": "stream",
     "text": [
      "2021\n",
      "Sat May 22 07:48:36 2021\n",
      "22 \n",
      "11\n",
      "2021\n",
      "Sun Nov 14 13:42:33 2021\n",
      "14 \n",
      "11\n",
      "2021\n",
      "Sun Nov 14 16:10:27 2021\n",
      "14 \n",
      "11\n",
      "2021\n",
      "Sun Nov 14 16:17:40 2021\n",
      "14 \n",
      "11\n",
      "2021\n",
      "Thu Nov 25 10:08:19 2021\n",
      "25 \n",
      "01\n",
      "2022\n",
      "Tue Jan 11 20:20:09 2022\n",
      "11 \n",
      "01\n",
      "2022\n",
      "Tue Jan 11 21:57:41 2022\n",
      "11 \n",
      "01\n",
      "2022\n",
      "Tue Jan 18 20:09:51 2022\n",
      "18 \n",
      "01\n",
      "2022\n",
      "Tue Jan 18 21:33:44 2022\n",
      "18 \n",
      "01\n",
      "2022\n",
      "Tue Jan 25 17:47:25 2022\n",
      "25 \n",
      "01\n",
      "2022\n",
      "Tue Jan 25 20:16:25 2022\n",
      "25 \n",
      "01\n",
      "2022\n",
      "Thu Jan 27 15:21:29 2022\n",
      "27 \n",
      "01\n",
      "2022\n",
      "Thu Jan 27 15:24:18 2022\n",
      "27 \n",
      "01\n",
      "2022\n",
      "Thu Jan 27 16:29:03 2022\n",
      "27 \n",
      "2022\n",
      "Wed Feb  2 20:31:54 2022\n",
      " 2 \n",
      "03\n",
      "2022\n",
      "Tue Mar  8 09:35:12 2022\n",
      " 8 \n",
      "16\n"
     ]
    }
   ],
   "source": [
    "diretorio = r'C:\\Users\\kimge\\Videos\\Captures'\n",
    "count = 0\n",
    "for roots, dirs, files in os.walk(diretorio):\n",
    "    for file in files:\n",
    "        count += 1\n",
    "        \n",
    "        ti = os.path.getmtime(f'{roots}\\\\{file}')\n",
    "        \n",
    "        x = time.ctime(ti)\n",
    "        \n",
    "        if x[4:7] == 'Jun':\n",
    "            mes = '06'\n",
    "            print(mes)\n",
    "        \n",
    "        elif x[4:7] == 'Jul':\n",
    "            mes = '07'\n",
    "            print(mes)\n",
    "        \n",
    "            \n",
    "        elif x[4:7] == 'Ago':\n",
    "            mes = '08'\n",
    "            print(mes)\n",
    "            \n",
    "            \n",
    "        elif x[4:7] == 'Set':\n",
    "            mes = '09'\n",
    "            print(mes)\n",
    "            \n",
    "        elif x[4:7] == 'Out':\n",
    "            mes = '10'\n",
    "            print(mes)\n",
    "            \n",
    "        elif x[4:7] == 'Nov':\n",
    "            mes = '11'\n",
    "            print(mes)\n",
    "        \n",
    "        elif x[4:7] == 'Dez':\n",
    "            mes = '12'\n",
    "            print(mes)\n",
    "        \n",
    "            \n",
    "        elif x[4:7] == 'Jan':\n",
    "            mes = '01'\n",
    "            print(mes)\n",
    "            \n",
    "            \n",
    "        elif x[4:7] == 'Fev':\n",
    "            mes = '02'\n",
    "            print(mes)\n",
    "            \n",
    "        elif x[4:7] == 'Mar':\n",
    "            mes = '03'\n",
    "            print(mes)\n",
    "            \n",
    "        elif x[4:7] == 'Abr':\n",
    "            mes = '10'\n",
    "            print(mes)\n",
    "            \n",
    "        elif x[4:7] == 'Mai':\n",
    "            mes = '05'\n",
    "            print(mes)\n",
    "            \n",
    "        ano = x[-4:]\n",
    "        \n",
    "        \n",
    "        dia = x[8:11]\n",
    "        \n",
    "        print(ano)\n",
    "            \n",
    "        print(x)\n",
    "        \n",
    "        print(dia)\n",
    "        \n",
    "        \n",
    "        \n",
    "print(count)"
   ]
  },
  {
   "cell_type": "code",
   "execution_count": 17,
   "id": "eb7e79eb",
   "metadata": {},
   "outputs": [
    {
     "name": "stdout",
     "output_type": "stream",
     "text": [
      "Jun\n"
     ]
    }
   ],
   "source": [
    "print(x[4:7])"
   ]
  },
  {
   "cell_type": "code",
   "execution_count": 14,
   "id": "53629f08",
   "metadata": {},
   "outputs": [
    {
     "data": {
      "text/plain": [
       "str"
      ]
     },
     "execution_count": 14,
     "metadata": {},
     "output_type": "execute_result"
    }
   ],
   "source": [
    "type(x)"
   ]
  },
  {
   "cell_type": "code",
   "execution_count": null,
   "id": "c6a3a1c5",
   "metadata": {},
   "outputs": [],
   "source": []
  }
 ],
 "metadata": {
  "kernelspec": {
   "display_name": "Python 3",
   "language": "python",
   "name": "python3"
  },
  "language_info": {
   "codemirror_mode": {
    "name": "ipython",
    "version": 3
   },
   "file_extension": ".py",
   "mimetype": "text/x-python",
   "name": "python",
   "nbconvert_exporter": "python",
   "pygments_lexer": "ipython3",
   "version": "3.8.8"
  }
 },
 "nbformat": 4,
 "nbformat_minor": 5
}
