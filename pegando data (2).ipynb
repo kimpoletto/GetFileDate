{
 "cells": [
  {
   "cell_type": "code",
   "execution_count": 3,
   "id": "0871fac9",
   "metadata": {},
   "outputs": [],
   "source": [
    "import os\n",
    "import shutil\n",
    "import pandas as pd\n",
    "import time"
   ]
  },
  {
   "cell_type": "code",
   "execution_count": 62,
   "id": "ed6220ce",
   "metadata": {},
   "outputs": [
    {
     "name": "stdout",
     "output_type": "stream",
     "text": [
      "05\n",
      "05/22/2021\n",
      "11\n",
      "11/14/2021\n",
      "11\n",
      "11/14/2021\n",
      "11\n",
      "11/14/2021\n",
      "11\n",
      "11/25/2021\n",
      "01\n",
      "01/11/2022\n",
      "01\n",
      "01/11/2022\n",
      "01\n",
      "01/18/2022\n",
      "01\n",
      "01/18/2022\n",
      "01\n",
      "01/25/2022\n",
      "01\n",
      "01/25/2022\n",
      "01\n",
      "01/27/2022\n",
      "01\n",
      "01/27/2022\n",
      "01\n",
      "01/27/2022\n",
      "02\n",
      "02/02/2022\n",
      "03\n",
      "03/08/2022\n",
      "16\n"
     ]
    }
   ],
   "source": [
    "diretorio = r'C:\\Users\\kimge\\Videos\\Captures'\n",
    "count = 0\n",
    "for roots, dirs, files in os.walk(diretorio):\n",
    "    for file in files:\n",
    "        count += 1\n",
    "        \n",
    "        ti = os.path.getmtime(f'{roots}\\\\{file}')\n",
    "        \n",
    "        x = time.ctime(ti)\n",
    "        \n",
    "        if x[4:7] == 'Jun':\n",
    "            mes = '06'\n",
    "            print(mes)\n",
    "        \n",
    "        elif x[4:7] == 'Jul':\n",
    "            mes = '07'\n",
    "            print(mes)\n",
    "        \n",
    "            \n",
    "        elif x[4:7] == 'Aug':\n",
    "            mes = '08'\n",
    "            print(mes)\n",
    "            \n",
    "            \n",
    "        elif x[4:7] == 'Sep':\n",
    "            mes = '09'\n",
    "            print(mes)\n",
    "            \n",
    "        elif x[4:7] == 'Oct':\n",
    "            mes = '10'\n",
    "            print(mes)\n",
    "            \n",
    "        elif x[4:7] == 'Nov':\n",
    "            mes = '11'\n",
    "            print(mes)\n",
    "        \n",
    "        elif x[4:7] == 'Dec':\n",
    "            mes = '12'\n",
    "            print(mes)\n",
    "        \n",
    "            \n",
    "        elif x[4:7] == 'Jan':\n",
    "            mes = '01'\n",
    "            print(mes)\n",
    "            \n",
    "            \n",
    "        elif x[4:7] == 'Feb':\n",
    "            mes = '02'\n",
    "            print(mes)\n",
    "            \n",
    "        elif x[4:7] == 'Mar':\n",
    "            mes = '03'\n",
    "            print(mes)\n",
    "            \n",
    "        elif x[4:7] == 'Apr':\n",
    "            mes = '10'\n",
    "            print(mes)\n",
    "            \n",
    "        elif x[4:7] == 'May':\n",
    "            mes = '05'\n",
    "            print(mes)\n",
    "            \n",
    "        ano = x[-4:]\n",
    "        \n",
    "        \n",
    "        dia = x[8:11].strip()\n",
    "        \n",
    "        \n",
    "        \n",
    "        \n",
    "        if len(dia) == 1:\n",
    "            \n",
    "            a = f\"{mes}/0{dia}/{ano}\"\n",
    "            \n",
    "            print(a)\n",
    "        else:\n",
    "            \n",
    "\n",
    "           \n",
    "\n",
    "\n",
    "\n",
    "            a = f\"{mes}/{dia}/{ano}\"\n",
    "            print(a)\n",
    "\n",
    "\n",
    "\n",
    "        \n",
    "        \n",
    "print(count)"
   ]
  },
  {
   "cell_type": "code",
   "execution_count": 17,
   "id": "e8de03a1",
   "metadata": {},
   "outputs": [
    {
     "name": "stdout",
     "output_type": "stream",
     "text": [
      "Jun\n"
     ]
    }
   ],
   "source": [
    "print(x[4:7])"
   ]
  },
  {
   "cell_type": "code",
   "execution_count": 14,
   "id": "631ec7ea",
   "metadata": {},
   "outputs": [
    {
     "data": {
      "text/plain": [
       "str"
      ]
     },
     "execution_count": 14,
     "metadata": {},
     "output_type": "execute_result"
    }
   ],
   "source": [
    "type(x)"
   ]
  },
  {
   "cell_type": "code",
   "execution_count": null,
   "id": "47b8e99e",
   "metadata": {},
   "outputs": [],
   "source": []
  }
 ],
 "metadata": {
  "kernelspec": {
   "display_name": "Python 3",
   "language": "python",
   "name": "python3"
  },
  "language_info": {
   "codemirror_mode": {
    "name": "ipython",
    "version": 3
   },
   "file_extension": ".py",
   "mimetype": "text/x-python",
   "name": "python",
   "nbconvert_exporter": "python",
   "pygments_lexer": "ipython3",
   "version": "3.8.8"
  }
 },
 "nbformat": 4,
 "nbformat_minor": 5
}
